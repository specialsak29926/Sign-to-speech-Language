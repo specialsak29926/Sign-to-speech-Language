{
  "nbformat": 4,
  "nbformat_minor": 0,
  "metadata": {
    "colab": {
      "provenance": [],
      "collapsed_sections": [
        "g766OqRvQbIN",
        "6cNlTqAGpFKj",
        "vvzRqadNzQfr",
        "RVg4t84200n6"
      ]
    },
    "kernelspec": {
      "name": "python3",
      "display_name": "Python 3"
    },
    "language_info": {
      "name": "python"
    }
  },
  "cells": [
    {
      "cell_type": "markdown",
      "source": [
        "## **Step-1:Importing the necessary Libraries**"
      ],
      "metadata": {
        "id": "ioANI6ORLCw5"
      }
    },
    {
      "cell_type": "code",
      "source": [
        "!pip install gtts\n",
        "# This is google text to speech library which I will be using ahead to convert the text into\n",
        "# speech"
      ],
      "metadata": {
        "colab": {
          "base_uri": "https://localhost:8080/"
        },
        "id": "he5tayKcST5z",
        "outputId": "639e4ae7-4e9b-479e-8037-9342ebe5e7ff"
      },
      "execution_count": 3,
      "outputs": [
        {
          "output_type": "stream",
          "name": "stdout",
          "text": [
            "Requirement already satisfied: gtts in /usr/local/lib/python3.10/dist-packages (2.5.1)\n",
            "Requirement already satisfied: requests<3,>=2.27 in /usr/local/lib/python3.10/dist-packages (from gtts) (2.31.0)\n",
            "Requirement already satisfied: click<8.2,>=7.1 in /usr/local/lib/python3.10/dist-packages (from gtts) (8.1.7)\n",
            "Requirement already satisfied: charset-normalizer<4,>=2 in /usr/local/lib/python3.10/dist-packages (from requests<3,>=2.27->gtts) (3.3.2)\n",
            "Requirement already satisfied: idna<4,>=2.5 in /usr/local/lib/python3.10/dist-packages (from requests<3,>=2.27->gtts) (3.7)\n",
            "Requirement already satisfied: urllib3<3,>=1.21.1 in /usr/local/lib/python3.10/dist-packages (from requests<3,>=2.27->gtts) (2.0.7)\n",
            "Requirement already satisfied: certifi>=2017.4.17 in /usr/local/lib/python3.10/dist-packages (from requests<3,>=2.27->gtts) (2024.2.2)\n"
          ]
        }
      ]
    },
    {
      "cell_type": "code",
      "execution_count": 46,
      "metadata": {
        "id": "cU3toUV87rx4"
      },
      "outputs": [],
      "source": [
        "#These are all the important libraries that I will need along the way to make my project\n",
        "import numpy as np\n",
        "import pandas as pd\n",
        "import tensorflow as tf\n",
        "import os\n",
        "import cv2\n",
        "from tensorflow.keras import layers, models\n",
        "from IPython.display import display, Javascript\n",
        "from google.colab.output import eval_js\n",
        "from base64 import b64decode\n",
        "from PIL import Image\n",
        "import io\n",
        "from gtts import gTTS\n",
        "import IPython.display as ipd\n",
        "from keras.models import load_model\n",
        "from sklearn.metrics import accuracy_score, confusion_matrix"
      ]
    },
    {
      "cell_type": "markdown",
      "source": [
        "## **Step-2: Loading the data and reading it as an array**"
      ],
      "metadata": {
        "id": "g766OqRvQbIN"
      }
    },
    {
      "cell_type": "markdown",
      "source": [
        "I have a drive folder named reduced_size_train which further has 27 folders named **A through Z** including one folder for **space**.\n",
        "Each of these folders has about 100 files each. Originally the data I downloaded from kaggle had 1000 files in each folder but because of the limited space availaible on google drive, I reduced the size to **100 images per folder.**"
      ],
      "metadata": {
        "id": "ddK6Z2gFm3gB"
      }
    },
    {
      "cell_type": "code",
      "source": [
        "#This is the folder containing other folders which further has images\n",
        "data_root = '/content/drive/MyDrive/reduced_size_train'\n",
        "#subfolders are the folders containg images of each alphabat and space.\n",
        "subfolders = sorted([f.path for f in os.scandir(data_root) if f.is_dir()])\n",
        "\n",
        "images =[]\n",
        "labels = []\n",
        "counter =0  # This is the variable to keep track of the label of alphabat\n",
        "            # and append the label accordingly into the labels array\n",
        "#Reading the images of each folder into an array called images\n",
        "for folder_path in subfolders:\n",
        "    folder_name = os.path.basename(folder_path)\n",
        "    file_list = sorted([f.path for f in os.scandir(folder_path) if f.is_file()])\n",
        "    print(f\"Folder: {folder_name}, Number of files: {len(file_list)}\")\n",
        "    for file_path in file_list:\n",
        "        image = cv2.imread(file_path)                   #Reading the image\n",
        "        image = cv2.cvtColor(image, cv2.COLOR_BGR2RGB)  #Converting the images to RGB format\n",
        "        images.append(image)\n",
        "        labels.append(counter)\n",
        "    counter+=1"
      ],
      "metadata": {
        "colab": {
          "base_uri": "https://localhost:8080/"
        },
        "id": "cHH2MU_571sL",
        "outputId": "d5a93b9f-9bee-4738-d97e-e6eee36d19c5"
      },
      "execution_count": 33,
      "outputs": [
        {
          "output_type": "stream",
          "name": "stdout",
          "text": [
            "Folder: A, Number of files: 100\n",
            "Folder: B, Number of files: 100\n",
            "Folder: C, Number of files: 100\n",
            "Folder: D, Number of files: 100\n",
            "Folder: E, Number of files: 100\n",
            "Folder: F, Number of files: 100\n",
            "Folder: G, Number of files: 100\n",
            "Folder: H, Number of files: 100\n",
            "Folder: I, Number of files: 100\n",
            "Folder: J, Number of files: 100\n",
            "Folder: K, Number of files: 100\n",
            "Folder: L, Number of files: 100\n",
            "Folder: M, Number of files: 100\n",
            "Folder: N, Number of files: 100\n",
            "Folder: O, Number of files: 100\n",
            "Folder: P, Number of files: 100\n",
            "Folder: Q, Number of files: 100\n",
            "Folder: R, Number of files: 100\n",
            "Folder: S, Number of files: 110\n",
            "Folder: T, Number of files: 110\n",
            "Folder: U, Number of files: 100\n",
            "Folder: V, Number of files: 100\n",
            "Folder: W, Number of files: 110\n",
            "Folder: X, Number of files: 100\n",
            "Folder: Y, Number of files: 100\n",
            "Folder: Z, Number of files: 100\n",
            "Folder: space, Number of files: 100\n"
          ]
        }
      ]
    },
    {
      "cell_type": "code",
      "source": [
        "\n",
        "#This is the dataframe I have made which maps the image to its corrosponding label\n",
        "df = pd.DataFrame({'Images': images, 'Labels': labels})\n",
        "\n",
        "#Let's also shuffle it so later on we can split it into training and test data with all letters\n",
        "# randomly distributed between training and test data\n",
        "shuffled_df = df.sample(frac=1).reset_index(drop=True)\n",
        "shuffled_df"
      ],
      "metadata": {
        "colab": {
          "base_uri": "https://localhost:8080/",
          "height": 423
        },
        "id": "HotCGW4PP55A",
        "outputId": "9e321676-0fe3-456e-8f1e-66251e02858e"
      },
      "execution_count": 34,
      "outputs": [
        {
          "output_type": "execute_result",
          "data": {
            "text/plain": [
              "                                                 Images  Labels\n",
              "0     [[[0, 2, 254], [1, 2, 253], [6, 0, 247], [9, 0...       2\n",
              "1     [[[0, 4, 253], [0, 6, 252], [0, 2, 241], [3, 4...      19\n",
              "2     [[[0, 3, 252], [0, 2, 251], [4, 3, 247], [5, 0...      14\n",
              "3     [[[0, 3, 252], [0, 9, 255], [0, 0, 239], [3, 2...       7\n",
              "4     [[[0, 2, 252], [0, 6, 254], [0, 0, 239], [6, 3...      20\n",
              "...                                                 ...     ...\n",
              "2725  [[[0, 5, 255], [0, 1, 250], [4, 0, 247], [3, 0...       2\n",
              "2726  [[[0, 6, 255], [0, 3, 250], [1, 3, 248], [2, 1...      11\n",
              "2727  [[[0, 3, 252], [0, 9, 255], [0, 0, 243], [1, 0...       8\n",
              "2728  [[[0, 5, 250], [0, 4, 248], [3, 0, 243], [5, 0...       5\n",
              "2729  [[[0, 3, 252], [0, 7, 253], [0, 2, 242], [2, 3...      25\n",
              "\n",
              "[2730 rows x 2 columns]"
            ],
            "text/html": [
              "\n",
              "  <div id=\"df-fbf56d48-7855-4bfc-a79f-6c9412b4480a\" class=\"colab-df-container\">\n",
              "    <div>\n",
              "<style scoped>\n",
              "    .dataframe tbody tr th:only-of-type {\n",
              "        vertical-align: middle;\n",
              "    }\n",
              "\n",
              "    .dataframe tbody tr th {\n",
              "        vertical-align: top;\n",
              "    }\n",
              "\n",
              "    .dataframe thead th {\n",
              "        text-align: right;\n",
              "    }\n",
              "</style>\n",
              "<table border=\"1\" class=\"dataframe\">\n",
              "  <thead>\n",
              "    <tr style=\"text-align: right;\">\n",
              "      <th></th>\n",
              "      <th>Images</th>\n",
              "      <th>Labels</th>\n",
              "    </tr>\n",
              "  </thead>\n",
              "  <tbody>\n",
              "    <tr>\n",
              "      <th>0</th>\n",
              "      <td>[[[0, 2, 254], [1, 2, 253], [6, 0, 247], [9, 0...</td>\n",
              "      <td>2</td>\n",
              "    </tr>\n",
              "    <tr>\n",
              "      <th>1</th>\n",
              "      <td>[[[0, 4, 253], [0, 6, 252], [0, 2, 241], [3, 4...</td>\n",
              "      <td>19</td>\n",
              "    </tr>\n",
              "    <tr>\n",
              "      <th>2</th>\n",
              "      <td>[[[0, 3, 252], [0, 2, 251], [4, 3, 247], [5, 0...</td>\n",
              "      <td>14</td>\n",
              "    </tr>\n",
              "    <tr>\n",
              "      <th>3</th>\n",
              "      <td>[[[0, 3, 252], [0, 9, 255], [0, 0, 239], [3, 2...</td>\n",
              "      <td>7</td>\n",
              "    </tr>\n",
              "    <tr>\n",
              "      <th>4</th>\n",
              "      <td>[[[0, 2, 252], [0, 6, 254], [0, 0, 239], [6, 3...</td>\n",
              "      <td>20</td>\n",
              "    </tr>\n",
              "    <tr>\n",
              "      <th>...</th>\n",
              "      <td>...</td>\n",
              "      <td>...</td>\n",
              "    </tr>\n",
              "    <tr>\n",
              "      <th>2725</th>\n",
              "      <td>[[[0, 5, 255], [0, 1, 250], [4, 0, 247], [3, 0...</td>\n",
              "      <td>2</td>\n",
              "    </tr>\n",
              "    <tr>\n",
              "      <th>2726</th>\n",
              "      <td>[[[0, 6, 255], [0, 3, 250], [1, 3, 248], [2, 1...</td>\n",
              "      <td>11</td>\n",
              "    </tr>\n",
              "    <tr>\n",
              "      <th>2727</th>\n",
              "      <td>[[[0, 3, 252], [0, 9, 255], [0, 0, 243], [1, 0...</td>\n",
              "      <td>8</td>\n",
              "    </tr>\n",
              "    <tr>\n",
              "      <th>2728</th>\n",
              "      <td>[[[0, 5, 250], [0, 4, 248], [3, 0, 243], [5, 0...</td>\n",
              "      <td>5</td>\n",
              "    </tr>\n",
              "    <tr>\n",
              "      <th>2729</th>\n",
              "      <td>[[[0, 3, 252], [0, 7, 253], [0, 2, 242], [2, 3...</td>\n",
              "      <td>25</td>\n",
              "    </tr>\n",
              "  </tbody>\n",
              "</table>\n",
              "<p>2730 rows × 2 columns</p>\n",
              "</div>\n",
              "    <div class=\"colab-df-buttons\">\n",
              "\n",
              "  <div class=\"colab-df-container\">\n",
              "    <button class=\"colab-df-convert\" onclick=\"convertToInteractive('df-fbf56d48-7855-4bfc-a79f-6c9412b4480a')\"\n",
              "            title=\"Convert this dataframe to an interactive table.\"\n",
              "            style=\"display:none;\">\n",
              "\n",
              "  <svg xmlns=\"http://www.w3.org/2000/svg\" height=\"24px\" viewBox=\"0 -960 960 960\">\n",
              "    <path d=\"M120-120v-720h720v720H120Zm60-500h600v-160H180v160Zm220 220h160v-160H400v160Zm0 220h160v-160H400v160ZM180-400h160v-160H180v160Zm440 0h160v-160H620v160ZM180-180h160v-160H180v160Zm440 0h160v-160H620v160Z\"/>\n",
              "  </svg>\n",
              "    </button>\n",
              "\n",
              "  <style>\n",
              "    .colab-df-container {\n",
              "      display:flex;\n",
              "      gap: 12px;\n",
              "    }\n",
              "\n",
              "    .colab-df-convert {\n",
              "      background-color: #E8F0FE;\n",
              "      border: none;\n",
              "      border-radius: 50%;\n",
              "      cursor: pointer;\n",
              "      display: none;\n",
              "      fill: #1967D2;\n",
              "      height: 32px;\n",
              "      padding: 0 0 0 0;\n",
              "      width: 32px;\n",
              "    }\n",
              "\n",
              "    .colab-df-convert:hover {\n",
              "      background-color: #E2EBFA;\n",
              "      box-shadow: 0px 1px 2px rgba(60, 64, 67, 0.3), 0px 1px 3px 1px rgba(60, 64, 67, 0.15);\n",
              "      fill: #174EA6;\n",
              "    }\n",
              "\n",
              "    .colab-df-buttons div {\n",
              "      margin-bottom: 4px;\n",
              "    }\n",
              "\n",
              "    [theme=dark] .colab-df-convert {\n",
              "      background-color: #3B4455;\n",
              "      fill: #D2E3FC;\n",
              "    }\n",
              "\n",
              "    [theme=dark] .colab-df-convert:hover {\n",
              "      background-color: #434B5C;\n",
              "      box-shadow: 0px 1px 3px 1px rgba(0, 0, 0, 0.15);\n",
              "      filter: drop-shadow(0px 1px 2px rgba(0, 0, 0, 0.3));\n",
              "      fill: #FFFFFF;\n",
              "    }\n",
              "  </style>\n",
              "\n",
              "    <script>\n",
              "      const buttonEl =\n",
              "        document.querySelector('#df-fbf56d48-7855-4bfc-a79f-6c9412b4480a button.colab-df-convert');\n",
              "      buttonEl.style.display =\n",
              "        google.colab.kernel.accessAllowed ? 'block' : 'none';\n",
              "\n",
              "      async function convertToInteractive(key) {\n",
              "        const element = document.querySelector('#df-fbf56d48-7855-4bfc-a79f-6c9412b4480a');\n",
              "        const dataTable =\n",
              "          await google.colab.kernel.invokeFunction('convertToInteractive',\n",
              "                                                    [key], {});\n",
              "        if (!dataTable) return;\n",
              "\n",
              "        const docLinkHtml = 'Like what you see? Visit the ' +\n",
              "          '<a target=\"_blank\" href=https://colab.research.google.com/notebooks/data_table.ipynb>data table notebook</a>'\n",
              "          + ' to learn more about interactive tables.';\n",
              "        element.innerHTML = '';\n",
              "        dataTable['output_type'] = 'display_data';\n",
              "        await google.colab.output.renderOutput(dataTable, element);\n",
              "        const docLink = document.createElement('div');\n",
              "        docLink.innerHTML = docLinkHtml;\n",
              "        element.appendChild(docLink);\n",
              "      }\n",
              "    </script>\n",
              "  </div>\n",
              "\n",
              "\n",
              "<div id=\"df-97f01316-80d2-4b49-843c-fbc49873a71a\">\n",
              "  <button class=\"colab-df-quickchart\" onclick=\"quickchart('df-97f01316-80d2-4b49-843c-fbc49873a71a')\"\n",
              "            title=\"Suggest charts\"\n",
              "            style=\"display:none;\">\n",
              "\n",
              "<svg xmlns=\"http://www.w3.org/2000/svg\" height=\"24px\"viewBox=\"0 0 24 24\"\n",
              "     width=\"24px\">\n",
              "    <g>\n",
              "        <path d=\"M19 3H5c-1.1 0-2 .9-2 2v14c0 1.1.9 2 2 2h14c1.1 0 2-.9 2-2V5c0-1.1-.9-2-2-2zM9 17H7v-7h2v7zm4 0h-2V7h2v10zm4 0h-2v-4h2v4z\"/>\n",
              "    </g>\n",
              "</svg>\n",
              "  </button>\n",
              "\n",
              "<style>\n",
              "  .colab-df-quickchart {\n",
              "      --bg-color: #E8F0FE;\n",
              "      --fill-color: #1967D2;\n",
              "      --hover-bg-color: #E2EBFA;\n",
              "      --hover-fill-color: #174EA6;\n",
              "      --disabled-fill-color: #AAA;\n",
              "      --disabled-bg-color: #DDD;\n",
              "  }\n",
              "\n",
              "  [theme=dark] .colab-df-quickchart {\n",
              "      --bg-color: #3B4455;\n",
              "      --fill-color: #D2E3FC;\n",
              "      --hover-bg-color: #434B5C;\n",
              "      --hover-fill-color: #FFFFFF;\n",
              "      --disabled-bg-color: #3B4455;\n",
              "      --disabled-fill-color: #666;\n",
              "  }\n",
              "\n",
              "  .colab-df-quickchart {\n",
              "    background-color: var(--bg-color);\n",
              "    border: none;\n",
              "    border-radius: 50%;\n",
              "    cursor: pointer;\n",
              "    display: none;\n",
              "    fill: var(--fill-color);\n",
              "    height: 32px;\n",
              "    padding: 0;\n",
              "    width: 32px;\n",
              "  }\n",
              "\n",
              "  .colab-df-quickchart:hover {\n",
              "    background-color: var(--hover-bg-color);\n",
              "    box-shadow: 0 1px 2px rgba(60, 64, 67, 0.3), 0 1px 3px 1px rgba(60, 64, 67, 0.15);\n",
              "    fill: var(--button-hover-fill-color);\n",
              "  }\n",
              "\n",
              "  .colab-df-quickchart-complete:disabled,\n",
              "  .colab-df-quickchart-complete:disabled:hover {\n",
              "    background-color: var(--disabled-bg-color);\n",
              "    fill: var(--disabled-fill-color);\n",
              "    box-shadow: none;\n",
              "  }\n",
              "\n",
              "  .colab-df-spinner {\n",
              "    border: 2px solid var(--fill-color);\n",
              "    border-color: transparent;\n",
              "    border-bottom-color: var(--fill-color);\n",
              "    animation:\n",
              "      spin 1s steps(1) infinite;\n",
              "  }\n",
              "\n",
              "  @keyframes spin {\n",
              "    0% {\n",
              "      border-color: transparent;\n",
              "      border-bottom-color: var(--fill-color);\n",
              "      border-left-color: var(--fill-color);\n",
              "    }\n",
              "    20% {\n",
              "      border-color: transparent;\n",
              "      border-left-color: var(--fill-color);\n",
              "      border-top-color: var(--fill-color);\n",
              "    }\n",
              "    30% {\n",
              "      border-color: transparent;\n",
              "      border-left-color: var(--fill-color);\n",
              "      border-top-color: var(--fill-color);\n",
              "      border-right-color: var(--fill-color);\n",
              "    }\n",
              "    40% {\n",
              "      border-color: transparent;\n",
              "      border-right-color: var(--fill-color);\n",
              "      border-top-color: var(--fill-color);\n",
              "    }\n",
              "    60% {\n",
              "      border-color: transparent;\n",
              "      border-right-color: var(--fill-color);\n",
              "    }\n",
              "    80% {\n",
              "      border-color: transparent;\n",
              "      border-right-color: var(--fill-color);\n",
              "      border-bottom-color: var(--fill-color);\n",
              "    }\n",
              "    90% {\n",
              "      border-color: transparent;\n",
              "      border-bottom-color: var(--fill-color);\n",
              "    }\n",
              "  }\n",
              "</style>\n",
              "\n",
              "  <script>\n",
              "    async function quickchart(key) {\n",
              "      const quickchartButtonEl =\n",
              "        document.querySelector('#' + key + ' button');\n",
              "      quickchartButtonEl.disabled = true;  // To prevent multiple clicks.\n",
              "      quickchartButtonEl.classList.add('colab-df-spinner');\n",
              "      try {\n",
              "        const charts = await google.colab.kernel.invokeFunction(\n",
              "            'suggestCharts', [key], {});\n",
              "      } catch (error) {\n",
              "        console.error('Error during call to suggestCharts:', error);\n",
              "      }\n",
              "      quickchartButtonEl.classList.remove('colab-df-spinner');\n",
              "      quickchartButtonEl.classList.add('colab-df-quickchart-complete');\n",
              "    }\n",
              "    (() => {\n",
              "      let quickchartButtonEl =\n",
              "        document.querySelector('#df-97f01316-80d2-4b49-843c-fbc49873a71a button');\n",
              "      quickchartButtonEl.style.display =\n",
              "        google.colab.kernel.accessAllowed ? 'block' : 'none';\n",
              "    })();\n",
              "  </script>\n",
              "</div>\n",
              "    </div>\n",
              "  </div>\n"
            ],
            "application/vnd.google.colaboratory.intrinsic+json": {
              "type": "dataframe",
              "variable_name": "shuffled_df",
              "summary": "{\n  \"name\": \"shuffled_df\",\n  \"rows\": 2730,\n  \"fields\": [\n    {\n      \"column\": \"Images\",\n      \"properties\": {\n        \"dtype\": \"object\",\n        \"semantic_type\": \"\",\n        \"description\": \"\"\n      }\n    },\n    {\n      \"column\": \"Labels\",\n      \"properties\": {\n        \"dtype\": \"number\",\n        \"std\": 7,\n        \"min\": 0,\n        \"max\": 26,\n        \"num_unique_values\": 27,\n        \"samples\": [\n          15,\n          12,\n          26\n        ],\n        \"semantic_type\": \"\",\n        \"description\": \"\"\n      }\n    }\n  ]\n}"
            }
          },
          "metadata": {},
          "execution_count": 34
        }
      ]
    },
    {
      "cell_type": "code",
      "source": [
        "#Visualising the data\n",
        "print(\"Length of images array:\", len(images))\n",
        "print(\"Length of labels array:\", len(labels))\n",
        "images[990]\n"
      ],
      "metadata": {
        "colab": {
          "base_uri": "https://localhost:8080/",
          "height": 275
        },
        "id": "DYYUv4ZmYJQ2",
        "outputId": "18a0880b-b25f-4a73-dcc9-a7c4242bf1a6"
      },
      "execution_count": 35,
      "outputs": [
        {
          "output_type": "stream",
          "name": "stdout",
          "text": [
            "Length of images array: 2730\n",
            "Length of labels array: 2730\n"
          ]
        },
        {
          "output_type": "execute_result",
          "data": {
            "text/plain": [
              "array([[[  0,   1, 251],\n",
              "        [  0,   6, 254],\n",
              "        [  1,   0, 242],\n",
              "        ...,\n",
              "        [  7,   1, 249],\n",
              "        [  0,   0, 249],\n",
              "        [  0,   3, 252]],\n",
              "\n",
              "       [[  0,   5, 255],\n",
              "        [  0,   0, 233],\n",
              "        [ 10,   9, 209],\n",
              "        ...,\n",
              "        [ 10,   1, 192],\n",
              "        [  8,   8, 218],\n",
              "        [  2,   6, 225]],\n",
              "\n",
              "       [[  4,   0, 251],\n",
              "        [ 12,   8, 217],\n",
              "        [ 76,  77, 193],\n",
              "        ...,\n",
              "        [ 72,  60, 136],\n",
              "        [ 60,  53, 185],\n",
              "        [ 13,   9, 168]],\n",
              "\n",
              "       ...,\n",
              "\n",
              "       [[  3,   3, 247],\n",
              "        [  8,   9, 198],\n",
              "        [ 21,  22, 104],\n",
              "        ...,\n",
              "        [116, 111, 117],\n",
              "        [111, 109, 192],\n",
              "        [ 12,  14, 133]],\n",
              "\n",
              "       [[  0,   1, 246],\n",
              "        [  3,   5, 214],\n",
              "        [  9,   8, 146],\n",
              "        ...,\n",
              "        [110, 108, 191],\n",
              "        [ 96, 100, 226],\n",
              "        [  7,  14, 164]],\n",
              "\n",
              "       [[  0,   1, 248],\n",
              "        [  4,   7, 226],\n",
              "        [ 10,   8, 177],\n",
              "        ...,\n",
              "        [ 13,  15, 134],\n",
              "        [  7,  13, 163],\n",
              "        [  6,  15, 180]]], dtype=uint8)"
            ],
            "text/html": [
              "<style>\n",
              "      .ndarray_repr .ndarray_raw_data {\n",
              "        display: none;\n",
              "      }\n",
              "      .ndarray_repr.show_array .ndarray_raw_data {\n",
              "        display: block;\n",
              "      }\n",
              "      .ndarray_repr.show_array .ndarray_image_preview {\n",
              "        display: none;\n",
              "      }\n",
              "      </style>\n",
              "      <div id=\"id-c729e70d-0dd9-4872-8e8a-5fa539268de9\" class=\"ndarray_repr\"><pre>ndarray (200, 200, 3) <button style=\"padding: 0 2px;\">show data</button></pre><img src=\"data:image/png;base64,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\" class=\"ndarray_image_preview\" /><pre class=\"ndarray_raw_data\">array([[[  0,   1, 251],\n",
              "        [  0,   6, 254],\n",
              "        [  1,   0, 242],\n",
              "        ...,\n",
              "        [  7,   1, 249],\n",
              "        [  0,   0, 249],\n",
              "        [  0,   3, 252]],\n",
              "\n",
              "       [[  0,   5, 255],\n",
              "        [  0,   0, 233],\n",
              "        [ 10,   9, 209],\n",
              "        ...,\n",
              "        [ 10,   1, 192],\n",
              "        [  8,   8, 218],\n",
              "        [  2,   6, 225]],\n",
              "\n",
              "       [[  4,   0, 251],\n",
              "        [ 12,   8, 217],\n",
              "        [ 76,  77, 193],\n",
              "        ...,\n",
              "        [ 72,  60, 136],\n",
              "        [ 60,  53, 185],\n",
              "        [ 13,   9, 168]],\n",
              "\n",
              "       ...,\n",
              "\n",
              "       [[  3,   3, 247],\n",
              "        [  8,   9, 198],\n",
              "        [ 21,  22, 104],\n",
              "        ...,\n",
              "        [116, 111, 117],\n",
              "        [111, 109, 192],\n",
              "        [ 12,  14, 133]],\n",
              "\n",
              "       [[  0,   1, 246],\n",
              "        [  3,   5, 214],\n",
              "        [  9,   8, 146],\n",
              "        ...,\n",
              "        [110, 108, 191],\n",
              "        [ 96, 100, 226],\n",
              "        [  7,  14, 164]],\n",
              "\n",
              "       [[  0,   1, 248],\n",
              "        [  4,   7, 226],\n",
              "        [ 10,   8, 177],\n",
              "        ...,\n",
              "        [ 13,  15, 134],\n",
              "        [  7,  13, 163],\n",
              "        [  6,  15, 180]]], dtype=uint8)</pre></div><script>\n",
              "      (() => {\n",
              "      const titles = ['show data', 'hide data'];\n",
              "      let index = 0\n",
              "      document.querySelector('#id-c729e70d-0dd9-4872-8e8a-5fa539268de9 button').onclick = (e) => {\n",
              "        document.querySelector('#id-c729e70d-0dd9-4872-8e8a-5fa539268de9').classList.toggle('show_array');\n",
              "        index = (++index) % 2;\n",
              "        document.querySelector('#id-c729e70d-0dd9-4872-8e8a-5fa539268de9 button').textContent = titles[index];\n",
              "        e.preventDefault();\n",
              "        e.stopPropagation();\n",
              "      }\n",
              "      })();\n",
              "    </script>"
            ]
          },
          "metadata": {},
          "execution_count": 35
        }
      ]
    },
    {
      "cell_type": "markdown",
      "source": [
        "## **Step-3: Defining the model**"
      ],
      "metadata": {
        "id": "6cNlTqAGpFKj"
      }
    },
    {
      "cell_type": "code",
      "source": [
        "images[0].shape"
      ],
      "metadata": {
        "colab": {
          "base_uri": "https://localhost:8080/"
        },
        "id": "LvT1-zI8u25f",
        "outputId": "98a8237d-9437-4941-ca0d-bb087f2be8de"
      },
      "execution_count": 36,
      "outputs": [
        {
          "output_type": "execute_result",
          "data": {
            "text/plain": [
              "(200, 200, 3)"
            ]
          },
          "metadata": {},
          "execution_count": 36
        }
      ]
    },
    {
      "cell_type": "code",
      "source": [
        "\n",
        "input_shape = (200,200, 3) #This is based on the size of images downloaded from data itself\n",
        "\n",
        "# Define the number of classes which the model will use for multi-class classification\n",
        "num_classes = 27\n",
        "\n",
        "# Model architecture- Almost similar to what i used for my face recognition project\n",
        "model = models.Sequential([\n",
        "    layers.Conv2D(32, (3, 3), activation='relu', input_shape=input_shape),\n",
        "    layers.MaxPooling2D((2, 2)),\n",
        "    layers.Conv2D(64, (3, 3), activation='relu'),\n",
        "    layers.MaxPooling2D((2, 2)),\n",
        "    layers.Flatten(),\n",
        "    layers.Dense(128, activation='relu'),\n",
        "    layers.Dense(num_classes, activation='softmax')\n",
        "])\n",
        "\n",
        "# Compiling the model with adam optimizer and sparse categorical crossentropy (pretty standard)\n",
        "model.compile(optimizer='adam',\n",
        "              loss='sparse_categorical_crossentropy',\n",
        "              metrics=['accuracy'])\n",
        "\n",
        "#Printing the model summary helps to understand the architecture of the model\n",
        "model.summary()\n"
      ],
      "metadata": {
        "colab": {
          "base_uri": "https://localhost:8080/"
        },
        "id": "irxrROChZU_O",
        "outputId": "7e5113ce-d5d6-4ddf-e1a0-6a1194ed246f"
      },
      "execution_count": 37,
      "outputs": [
        {
          "output_type": "stream",
          "name": "stdout",
          "text": [
            "Model: \"sequential\"\n",
            "_________________________________________________________________\n",
            " Layer (type)                Output Shape              Param #   \n",
            "=================================================================\n",
            " conv2d (Conv2D)             (None, 198, 198, 32)      896       \n",
            "                                                                 \n",
            " max_pooling2d (MaxPooling2  (None, 99, 99, 32)        0         \n",
            " D)                                                              \n",
            "                                                                 \n",
            " conv2d_1 (Conv2D)           (None, 97, 97, 64)        18496     \n",
            "                                                                 \n",
            " max_pooling2d_1 (MaxPoolin  (None, 48, 48, 64)        0         \n",
            " g2D)                                                            \n",
            "                                                                 \n",
            " flatten (Flatten)           (None, 147456)            0         \n",
            "                                                                 \n",
            " dense (Dense)               (None, 128)               18874496  \n",
            "                                                                 \n",
            " dense_1 (Dense)             (None, 27)                3483      \n",
            "                                                                 \n",
            "=================================================================\n",
            "Total params: 18897371 (72.09 MB)\n",
            "Trainable params: 18897371 (72.09 MB)\n",
            "Non-trainable params: 0 (0.00 Byte)\n",
            "_________________________________________________________________\n"
          ]
        }
      ]
    },
    {
      "cell_type": "markdown",
      "source": [
        "## **Step-4: Dividing the data into training and test data**"
      ],
      "metadata": {
        "id": "vvzRqadNzQfr"
      }
    },
    {
      "cell_type": "code",
      "source": [
        "# First of all the image file is being read as a numpy array and then it is converted to tensor\n",
        "# because the model architecture has a tensor input\n",
        "\n",
        "# Same process is repeated for training as well as test data\n",
        "\n",
        "X_train = np.array([np.array(image) for image in shuffled_df['Images'][:2000]])\n",
        "X_train = tf.convert_to_tensor(X_train, dtype=tf.float32)\n",
        "\n",
        "X_val = np.array([np.array(image) for image in shuffled_df['Images'][2000:]])\n",
        "X_val = tf.convert_to_tensor(X_val, dtype=tf.float32)\n",
        "\n",
        "y_train = np.array(shuffled_df['Labels'][:2000])\n",
        "y_train = tf.convert_to_tensor(y_train, dtype=tf.int64)\n",
        "\n",
        "y_val = np.array(shuffled_df['Labels'][2000:])\n",
        "y_val = tf.convert_to_tensor(y_val, dtype=tf.int64)\n",
        "\n",
        "\n"
      ],
      "metadata": {
        "id": "Np9V4BmopAF2"
      },
      "execution_count": 38,
      "outputs": []
    },
    {
      "cell_type": "markdown",
      "source": [
        "## **Step-5: Fitting the model and tracking the accuracy of the model**"
      ],
      "metadata": {
        "id": "RVg4t84200n6"
      }
    },
    {
      "cell_type": "code",
      "source": [
        "history = model.fit(X_train, y_train, epochs=5, batch_size=32, validation_data=(X_val, y_val))"
      ],
      "metadata": {
        "colab": {
          "base_uri": "https://localhost:8080/"
        },
        "id": "Igemadst08I5",
        "outputId": "28bf99cf-9c80-41e5-e380-564c1cacbd3d"
      },
      "execution_count": 39,
      "outputs": [
        {
          "output_type": "stream",
          "name": "stdout",
          "text": [
            "Epoch 1/5\n",
            "63/63 [==============================] - 182s 3s/step - loss: 205.8720 - accuracy: 0.5775 - val_loss: 0.1537 - val_accuracy: 0.9630\n",
            "Epoch 2/5\n",
            "63/63 [==============================] - 162s 3s/step - loss: 0.0362 - accuracy: 0.9910 - val_loss: 0.0247 - val_accuracy: 0.9932\n",
            "Epoch 3/5\n",
            "63/63 [==============================] - 178s 3s/step - loss: 0.0361 - accuracy: 0.9905 - val_loss: 0.0989 - val_accuracy: 0.9753\n",
            "Epoch 4/5\n",
            "63/63 [==============================] - 217s 3s/step - loss: 0.0326 - accuracy: 0.9940 - val_loss: 0.0995 - val_accuracy: 0.9767\n",
            "Epoch 5/5\n",
            "63/63 [==============================] - 175s 3s/step - loss: 0.0155 - accuracy: 0.9955 - val_loss: 0.0906 - val_accuracy: 0.9726\n"
          ]
        }
      ]
    },
    {
      "cell_type": "markdown",
      "source": [
        "Validation accuracy of about 97% in last epoch was achieved"
      ],
      "metadata": {
        "id": "2gNleJqj7ryn"
      }
    },
    {
      "cell_type": "markdown",
      "source": [
        "## **Step-6: Checking the accuracy of the fitted model on test data**"
      ],
      "metadata": {
        "id": "z9yxOZVw3CCR"
      }
    },
    {
      "cell_type": "code",
      "source": [
        "# Test images that were defined above\n",
        "test_images = X_val\n",
        "\n",
        "#Converting the images into tensors because that is how the model input was defined\n",
        "X_test = np.array([np.array(image) for image in test_images])\n",
        "X_test = tf.convert_to_tensor(X_test, dtype=tf.float32)\n",
        "\n",
        "#Using the model to predict the probability of each label\n",
        "predictions = model.predict(X_test, batch_size=len(test_images), steps=1)\n",
        "\n",
        "#Calculating the most probable label for each of the image\n",
        "predicted_labels = np.argmax(predictions, axis=1)\n"
      ],
      "metadata": {
        "colab": {
          "base_uri": "https://localhost:8080/"
        },
        "id": "RrhJJs2BqGp1",
        "outputId": "c9221a5c-f1f5-4f30-e284-0fdfa915d257"
      },
      "execution_count": 41,
      "outputs": [
        {
          "output_type": "stream",
          "name": "stdout",
          "text": [
            "1/1 [==============================] - 18s 18s/step\n"
          ]
        }
      ]
    },
    {
      "cell_type": "code",
      "source": [
        "#Calculating the accuracy of model by comparing the predicted outputs with actual output\n",
        "accuracy = accuracy_score(y_val, predicted_labels)\n",
        "\n",
        "#Printing the final accuracy of model on test data\n",
        "print(\"Accuracy of model on test data is :   \" , accuracy*100, \"%\")"
      ],
      "metadata": {
        "colab": {
          "base_uri": "https://localhost:8080/"
        },
        "id": "7lCmydQT2zK5",
        "outputId": "982723d5-5942-4aee-ac76-74e8601592af"
      },
      "execution_count": 44,
      "outputs": [
        {
          "output_type": "stream",
          "name": "stdout",
          "text": [
            "Accuracy of model on test data is :    97.26027397260275 %\n"
          ]
        }
      ]
    },
    {
      "cell_type": "markdown",
      "source": [
        "## **Step-7: Saving the model**"
      ],
      "metadata": {
        "id": "AfUu00sH5yLE"
      }
    },
    {
      "cell_type": "code",
      "source": [
        "model.save('/content/drive/MyDrive/EE_769_project/Sign_2_Speech_model')"
      ],
      "metadata": {
        "id": "mde-QQXMDTSR"
      },
      "execution_count": 49,
      "outputs": []
    },
    {
      "cell_type": "markdown",
      "source": [
        "## **Step-8: Loading the model and performing the final performance by converting a set of images to speech**"
      ],
      "metadata": {
        "id": "IEBvjl4Z9yTM"
      }
    },
    {
      "cell_type": "code",
      "source": [
        "model = load_model('/content/drive/MyDrive/EE_769_project/Sign_2_Speech_model')"
      ],
      "metadata": {
        "id": "Y4OFKLAt-PzE"
      },
      "execution_count": 50,
      "outputs": []
    },
    {
      "cell_type": "markdown",
      "source": [
        "For this I will be using a bunch of images I have uploaded in a folder with images in sign language. The aim is to convert the images into speech."
      ],
      "metadata": {
        "id": "odfDPx6k_CXr"
      }
    },
    {
      "cell_type": "code",
      "source": [
        "# Function to read the files\n",
        "def read_image_files(folder_path):\n",
        "    image_files = []\n",
        "    filenames = sorted(os.listdir(folder_path), key=lambda x: int(os.path.splitext(x)[0]))\n",
        "    for filename in filenames:\n",
        "        if filename.endswith('.jpg') or filename.endswith('.jpeg') or filename.endswith('.png') or filename.endswith('.gif'):\n",
        "            image_files.append(cv2.imread(os.path.join(folder_path, filename)))\n",
        "    return image_files\n",
        "\n",
        "#Reading the imafe files\n",
        "folder_path = '/content/drive/MyDrive/EE_769_project/Final_test'\n",
        "image_files = read_image_files(folder_path)"
      ],
      "metadata": {
        "id": "loMGM6xYAP4u"
      },
      "execution_count": 52,
      "outputs": []
    },
    {
      "cell_type": "code",
      "source": [
        "# Just like before, converting the image files into tensors\n",
        "X_test = np.array([np.array(image) for image in image_files])\n",
        "X_test = tf.convert_to_tensor(X_test, dtype=tf.float32)\n",
        "\n",
        "#Making the predictions using the loaded model\n",
        "predictions = model.predict(X_test, batch_size=len(X_test), steps=1)\n",
        "predicted_labels = np.argmax(predictions, axis=1)"
      ],
      "metadata": {
        "colab": {
          "base_uri": "https://localhost:8080/"
        },
        "outputId": "c3183cf9-e901-4622-b486-8284198a9f54",
        "id": "KylXDIhfAP43"
      },
      "execution_count": 53,
      "outputs": [
        {
          "output_type": "stream",
          "name": "stdout",
          "text": [
            "1/1 [==============================] - 1s 785ms/step\n"
          ]
        }
      ]
    },
    {
      "cell_type": "code",
      "source": [
        "# Mapping each label to their respective labels\n",
        "label_to_alphabet = {0: 'A', 1: 'B', 2: 'C', 3: 'D', 4: 'E', 5: 'F', 6: 'G', 7: 'H', 8: 'I', 9: 'J',\n",
        "                     10: 'K', 11: 'L', 12: 'M', 13: 'N', 14: 'O', 15: 'P', 16: 'Q', 17: 'R', 18: 'S',\n",
        "                     19: 'T', 20: 'U', 21: 'V', 22: 'W', 23: 'X', 24: 'Y', 25: 'Z', 26: ' '}\n",
        "\n",
        "#Generating alphabats from their labels\n",
        "alphabet_labels = [label_to_alphabet[label] for label in predicted_labels]\n",
        "\n",
        "#A string is generated from these alphabats which then needs to be converted to speech\n",
        "text_string = ''.join(alphabet_labels)\n",
        "\n",
        "#Using Google TTS to generate speech\n",
        "tts = gTTS(text=text_string, lang='en')\n",
        "\n",
        "# Save speech to an in-memory file-like object\n",
        "mp3_fp = io.BytesIO()\n",
        "tts.write_to_fp(mp3_fp)"
      ],
      "metadata": {
        "id": "0IABxMB6AP43"
      },
      "execution_count": 54,
      "outputs": []
    },
    {
      "cell_type": "code",
      "source": [
        "# Playing the Audio\n",
        "ipd.display(ipd.Audio(mp3_fp.getvalue(), autoplay=True))"
      ],
      "metadata": {
        "colab": {
          "base_uri": "https://localhost:8080/",
          "height": 75
        },
        "id": "fVT6tjdCADHW",
        "outputId": "f89dc7e6-985b-4b1d-93a1-f2b075628182"
      },
      "execution_count": 55,
      "outputs": [
        {
          "output_type": "display_data",
          "data": {
            "text/plain": [
              "<IPython.lib.display.Audio object>"
            ],
            "text/html": [
              "\n",
              "                <audio  controls=\"controls\" autoplay=\"autoplay\">\n",
              "                    <source src=\"data:audio/wav;base64,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\" type=\"audio/wav\" />\n",
              "                    Your browser does not support the audio element.\n",
              "                </audio>\n",
              "              "
            ]
          },
          "metadata": {}
        }
      ]
    },
    {
      "cell_type": "code",
      "source": [],
      "metadata": {
        "id": "RAbWvvxJE83i"
      },
      "execution_count": null,
      "outputs": []
    }
  ]
}